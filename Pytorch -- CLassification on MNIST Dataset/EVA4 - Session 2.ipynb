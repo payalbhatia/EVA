echo "# EVA" >> README.md
git init
git add README.md
git commit -m "first commit"
git remote add origin https://colab.research.google.com/drive/15KfZKbtxl5H91fT483p_xy7kF-kQtDSl
git push -u origin master
